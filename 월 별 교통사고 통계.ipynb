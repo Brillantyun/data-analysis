{
 "cells": [
  {
   "cell_type": "markdown",
   "metadata": {},
   "source": [
    "# 월 별 교통사고 분석"
   ]
  },
  {
   "cell_type": "code",
   "execution_count": 1,
   "metadata": {},
   "outputs": [],
   "source": [
    "import numpy as np\n",
    "import pandas as pd\n",
    "import matplotlib.pyplot as plt\n",
    "plt.rcParams['font.family'] ='Malgun Gothic'\n",
    "plt.rcParams['axes.unicode_minus'] =False #한글 폰트\n",
    "\n",
    "df = pd.read_csv('도로교통공단_월별 교통사고 통계.csv', encoding='cp949')#데이터불러오기\n",
    "#교통 사고가 특정 달에 많이 발생하는지 확인 및 이유 추측"
   ]
  },
  {
   "cell_type": "code",
   "execution_count": 2,
   "metadata": {},
   "outputs": [
    {
     "data": {
      "text/html": [
       "<div>\n",
       "<style scoped>\n",
       "    .dataframe tbody tr th:only-of-type {\n",
       "        vertical-align: middle;\n",
       "    }\n",
       "\n",
       "    .dataframe tbody tr th {\n",
       "        vertical-align: top;\n",
       "    }\n",
       "\n",
       "    .dataframe thead th {\n",
       "        text-align: right;\n",
       "    }\n",
       "</style>\n",
       "<table border=\"1\" class=\"dataframe\">\n",
       "  <thead>\n",
       "    <tr style=\"text-align: right;\">\n",
       "      <th></th>\n",
       "      <th>발생월</th>\n",
       "      <th>사고건수</th>\n",
       "      <th>사망자수</th>\n",
       "      <th>중상자수</th>\n",
       "      <th>경상자수</th>\n",
       "      <th>부상신고자수</th>\n",
       "    </tr>\n",
       "  </thead>\n",
       "  <tbody>\n",
       "    <tr>\n",
       "      <th>0</th>\n",
       "      <td>1</td>\n",
       "      <td>14480</td>\n",
       "      <td>190</td>\n",
       "      <td>3748</td>\n",
       "      <td>15789</td>\n",
       "      <td>1289</td>\n",
       "    </tr>\n",
       "    <tr>\n",
       "      <th>1</th>\n",
       "      <td>2</td>\n",
       "      <td>13284</td>\n",
       "      <td>181</td>\n",
       "      <td>3568</td>\n",
       "      <td>14263</td>\n",
       "      <td>1210</td>\n",
       "    </tr>\n",
       "    <tr>\n",
       "      <th>2</th>\n",
       "      <td>3</td>\n",
       "      <td>16000</td>\n",
       "      <td>187</td>\n",
       "      <td>4049</td>\n",
       "      <td>17062</td>\n",
       "      <td>1347</td>\n",
       "    </tr>\n",
       "    <tr>\n",
       "      <th>3</th>\n",
       "      <td>4</td>\n",
       "      <td>16336</td>\n",
       "      <td>182</td>\n",
       "      <td>4406</td>\n",
       "      <td>17537</td>\n",
       "      <td>1606</td>\n",
       "    </tr>\n",
       "    <tr>\n",
       "      <th>4</th>\n",
       "      <td>5</td>\n",
       "      <td>17552</td>\n",
       "      <td>203</td>\n",
       "      <td>4708</td>\n",
       "      <td>18851</td>\n",
       "      <td>1781</td>\n",
       "    </tr>\n",
       "  </tbody>\n",
       "</table>\n",
       "</div>"
      ],
      "text/plain": [
       "   발생월   사고건수  사망자수  중상자수   경상자수  부상신고자수\n",
       "0    1  14480   190  3748  15789    1289\n",
       "1    2  13284   181  3568  14263    1210\n",
       "2    3  16000   187  4049  17062    1347\n",
       "3    4  16336   182  4406  17537    1606\n",
       "4    5  17552   203  4708  18851    1781"
      ]
     },
     "execution_count": 2,
     "metadata": {},
     "output_type": "execute_result"
    }
   ],
   "source": [
    "df.head()"
   ]
  },
  {
   "cell_type": "code",
   "execution_count": 3,
   "metadata": {},
   "outputs": [
    {
     "data": {
      "text/html": [
       "<div>\n",
       "<style scoped>\n",
       "    .dataframe tbody tr th:only-of-type {\n",
       "        vertical-align: middle;\n",
       "    }\n",
       "\n",
       "    .dataframe tbody tr th {\n",
       "        vertical-align: top;\n",
       "    }\n",
       "\n",
       "    .dataframe thead th {\n",
       "        text-align: right;\n",
       "    }\n",
       "</style>\n",
       "<table border=\"1\" class=\"dataframe\">\n",
       "  <thead>\n",
       "    <tr style=\"text-align: right;\">\n",
       "      <th></th>\n",
       "      <th>발생월</th>\n",
       "      <th>사고건수</th>\n",
       "      <th>사망자수</th>\n",
       "      <th>중상자수</th>\n",
       "      <th>경상자수</th>\n",
       "      <th>부상신고자수</th>\n",
       "    </tr>\n",
       "  </thead>\n",
       "  <tbody>\n",
       "    <tr>\n",
       "      <th>7</th>\n",
       "      <td>8</td>\n",
       "      <td>17212</td>\n",
       "      <td>246</td>\n",
       "      <td>4622</td>\n",
       "      <td>18539</td>\n",
       "      <td>1752</td>\n",
       "    </tr>\n",
       "    <tr>\n",
       "      <th>8</th>\n",
       "      <td>9</td>\n",
       "      <td>17860</td>\n",
       "      <td>239</td>\n",
       "      <td>4840</td>\n",
       "      <td>18955</td>\n",
       "      <td>1856</td>\n",
       "    </tr>\n",
       "    <tr>\n",
       "      <th>9</th>\n",
       "      <td>10</td>\n",
       "      <td>17333</td>\n",
       "      <td>265</td>\n",
       "      <td>5000</td>\n",
       "      <td>17992</td>\n",
       "      <td>1661</td>\n",
       "    </tr>\n",
       "    <tr>\n",
       "      <th>10</th>\n",
       "      <td>11</td>\n",
       "      <td>17748</td>\n",
       "      <td>257</td>\n",
       "      <td>4849</td>\n",
       "      <td>18748</td>\n",
       "      <td>1701</td>\n",
       "    </tr>\n",
       "    <tr>\n",
       "      <th>11</th>\n",
       "      <td>12</td>\n",
       "      <td>17197</td>\n",
       "      <td>194</td>\n",
       "      <td>4408</td>\n",
       "      <td>18426</td>\n",
       "      <td>1646</td>\n",
       "    </tr>\n",
       "  </tbody>\n",
       "</table>\n",
       "</div>"
      ],
      "text/plain": [
       "    발생월   사고건수  사망자수  중상자수   경상자수  부상신고자수\n",
       "7     8  17212   246  4622  18539    1752\n",
       "8     9  17860   239  4840  18955    1856\n",
       "9    10  17333   265  5000  17992    1661\n",
       "10   11  17748   257  4849  18748    1701\n",
       "11   12  17197   194  4408  18426    1646"
      ]
     },
     "execution_count": 3,
     "metadata": {},
     "output_type": "execute_result"
    }
   ],
   "source": [
    "df.tail()"
   ]
  },
  {
   "cell_type": "code",
   "execution_count": 4,
   "metadata": {
    "scrolled": true
   },
   "outputs": [
    {
     "data": {
      "image/png": "[encoded data removed]",
      "text/plain": [
       "<Figure size 432x288 with 1 Axes>"
      ]
     },
     "metadata": {
      "needs_background": "light"
     },
     "output_type": "display_data"
    }
   ],
   "source": [
    "data = pd.DataFrame(df)\n",
    "\n",
    "plt.bar(data['발생월'], data['사고건수'], color=plt.cm.tab20.colors)#사고 건수 막대 그래프\n",
    "plt.title(\"월 별 교통사고 수\")\n",
    "plt.xlabel('월')\n",
    "plt.ylabel('발생 수')\n",
    "plt.xticks(ticks=df['발생월'])\n",
    "plt.show()"
   ]
  },
  {
   "cell_type": "code",
   "execution_count": 5,
   "metadata": {},
   "outputs": [
    {
     "data": {
      "image/png": "[encoded data removed]",
      "text/plain": [
       "<Figure size 432x288 with 1 Axes>"
      ]
     },
     "metadata": {
      "needs_background": "light"
     },
     "output_type": "display_data"
    }
   ],
   "source": [
    "plt.plot(data['발생월'], data['사고건수'], marker='o')\n",
    "plt.title('월 별 교통사고 추세')\n",
    "plt.xlabel('월')\n",
    "plt.ylabel('발생 수')\n",
    "plt.xticks(ticks=data['발생월'])\n",
    "plt.show()\n",
    "#1,2월에는 적다가 점차 증가되는 것을 볼 수 있음"
   ]
  },
  {
   "cell_type": "code",
   "execution_count": 12,
   "metadata": {},
   "outputs": [
    {
     "data": {
      "image/png": "[encoded data removed]",
      "text/plain": [
       "<Figure size 432x288 with 1 Axes>"
      ]
     },
     "metadata": {
      "needs_background": "light"
     },
     "output_type": "display_data"
    }
   ],
   "source": [
    "data['발생월'] = data['발생월'].replace({1: 13, 2:14})#오름차순으로 하기 위한 변형\n",
    "\n",
    "month=[3, 6, 9, 12, 15]#bins를 사용하기 위한 범위 설정\n",
    "season=['봄', '여름', '가을', '겨울']\n",
    "\n",
    "data['계절'] = pd.cut(data['발생월'], bins=month, labels=season, right=False)\n",
    "data['발생월'] = data['발생월'].replace({13:1, 14: 2})#설정 후 복구\n",
    "season_data = data.groupby('계절')['사고건수'].sum().reset_index()\n",
    "\n",
    "plt.bar(season_data['계절'], season_data['사고건수'], color = plt.cm.tab20.colors)\n",
    "plt.title('계절별 교통사고 건수')\n",
    "plt.xlabel('계절')\n",
    "plt.ylabel('발생 건수')\n",
    "plt.show()\n",
    "#가을이 많은 것을 볼 수 있음"
   ]
  }
 ],
 "metadata": {
  "kernelspec": {
   "display_name": "Python 3",
   "language": "python",
   "name": "python3"
  },
  "language_info": {
   "codemirror_mode": {
    "name": "ipython",
    "version": 3
   },
   "file_extension": ".py",
   "mimetype": "text/x-python",
   "name": "python",
   "nbconvert_exporter": "python",
   "pygments_lexer": "ipython3",
   "version": "3.8.3"
  }
 },
 "nbformat": 4,
 "nbformat_minor": 4
}
