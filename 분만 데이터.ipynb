{
 "cells": [
  {
   "cell_type": "markdown",
   "metadata": {},
   "source": [
    "# 연령별 분만건수 분석\n"
   ]
  },
  {
   "cell_type": "code",
   "execution_count": 26,
   "metadata": {},
   "outputs": [],
   "source": [
    "import numpy as np\n",
    "import pandas as pd\n",
    "import matplotlib.pyplot as plt\n",
    "\n",
    "df = pd.read_csv('시군구별 연령별 분만 통계 2018~2022.csv', encoding='cp949')#데이터불러오기"
   ]
  },
  {
   "cell_type": "code",
   "execution_count": 27,
   "metadata": {
    "scrolled": true
   },
   "outputs": [
    {
     "data": {
      "text/html": [
       "<div>\n",
       "<style scoped>\n",
       "    .dataframe tbody tr th:only-of-type {\n",
       "        vertical-align: middle;\n",
       "    }\n",
       "\n",
       "    .dataframe tbody tr th {\n",
       "        vertical-align: top;\n",
       "    }\n",
       "\n",
       "    .dataframe thead th {\n",
       "        text-align: right;\n",
       "    }\n",
       "</style>\n",
       "<table border=\"1\" class=\"dataframe\">\n",
       "  <thead>\n",
       "    <tr style=\"text-align: right;\">\n",
       "      <th></th>\n",
       "      <th>년도</th>\n",
       "      <th>시도</th>\n",
       "      <th>시군구</th>\n",
       "      <th>연령구분</th>\n",
       "      <th>분만건수</th>\n",
       "    </tr>\n",
       "  </thead>\n",
       "  <tbody>\n",
       "    <tr>\n",
       "      <th>0</th>\n",
       "      <td>2018</td>\n",
       "      <td>서울</td>\n",
       "      <td>강남구</td>\n",
       "      <td>19세 이하</td>\n",
       "      <td>0</td>\n",
       "    </tr>\n",
       "    <tr>\n",
       "      <th>1</th>\n",
       "      <td>2018</td>\n",
       "      <td>서울</td>\n",
       "      <td>강남구</td>\n",
       "      <td>20~29세</td>\n",
       "      <td>1124</td>\n",
       "    </tr>\n",
       "    <tr>\n",
       "      <th>2</th>\n",
       "      <td>2018</td>\n",
       "      <td>서울</td>\n",
       "      <td>강남구</td>\n",
       "      <td>30~39세</td>\n",
       "      <td>8000</td>\n",
       "    </tr>\n",
       "    <tr>\n",
       "      <th>3</th>\n",
       "      <td>2018</td>\n",
       "      <td>서울</td>\n",
       "      <td>강남구</td>\n",
       "      <td>40~49세</td>\n",
       "      <td>628</td>\n",
       "    </tr>\n",
       "    <tr>\n",
       "      <th>4</th>\n",
       "      <td>2018</td>\n",
       "      <td>서울</td>\n",
       "      <td>강남구</td>\n",
       "      <td>50세 이상</td>\n",
       "      <td>0</td>\n",
       "    </tr>\n",
       "  </tbody>\n",
       "</table>\n",
       "</div>"
      ],
      "text/plain": [
       "     년도  시도  시군구    연령구분  분만건수\n",
       "0  2018  서울  강남구  19세 이하     0\n",
       "1  2018  서울  강남구  20~29세  1124\n",
       "2  2018  서울  강남구  30~39세  8000\n",
       "3  2018  서울  강남구  40~49세   628\n",
       "4  2018  서울  강남구  50세 이상     0"
      ]
     },
     "execution_count": 27,
     "metadata": {},
     "output_type": "execute_result"
    }
   ],
   "source": [
    "df.head()"
   ]
  },
  {
   "cell_type": "code",
   "execution_count": 28,
   "metadata": {},
   "outputs": [],
   "source": [
    "from sklearn.linear_model import LinearRegression\n",
    "from sklearn.preprocessing import LabelEncoder\n",
    "\n",
    "data = pd.DataFrame(df)"
   ]
  },
  {
   "cell_type": "code",
   "execution_count": 29,
   "metadata": {},
   "outputs": [],
   "source": [
    "le = LabelEncoder()\n",
    "data['연령구분_수치'] = le.fit_transform(data['연령구분']) #연령구분 수치로 변경"
   ]
  },
  {
   "cell_type": "code",
   "execution_count": 30,
   "metadata": {},
   "outputs": [
    {
     "data": {
      "text/html": [
       "<div>\n",
       "<style scoped>\n",
       "    .dataframe tbody tr th:only-of-type {\n",
       "        vertical-align: middle;\n",
       "    }\n",
       "\n",
       "    .dataframe tbody tr th {\n",
       "        vertical-align: top;\n",
       "    }\n",
       "\n",
       "    .dataframe thead th {\n",
       "        text-align: right;\n",
       "    }\n",
       "</style>\n",
       "<table border=\"1\" class=\"dataframe\">\n",
       "  <thead>\n",
       "    <tr style=\"text-align: right;\">\n",
       "      <th></th>\n",
       "      <th>년도</th>\n",
       "      <th>시도</th>\n",
       "      <th>시군구</th>\n",
       "      <th>연령구분</th>\n",
       "      <th>분만건수</th>\n",
       "      <th>연령구분_수치</th>\n",
       "    </tr>\n",
       "  </thead>\n",
       "  <tbody>\n",
       "    <tr>\n",
       "      <th>0</th>\n",
       "      <td>2018</td>\n",
       "      <td>서울</td>\n",
       "      <td>강남구</td>\n",
       "      <td>19세 이하</td>\n",
       "      <td>0</td>\n",
       "      <td>0</td>\n",
       "    </tr>\n",
       "    <tr>\n",
       "      <th>1</th>\n",
       "      <td>2018</td>\n",
       "      <td>서울</td>\n",
       "      <td>강남구</td>\n",
       "      <td>20~29세</td>\n",
       "      <td>1124</td>\n",
       "      <td>1</td>\n",
       "    </tr>\n",
       "    <tr>\n",
       "      <th>2</th>\n",
       "      <td>2018</td>\n",
       "      <td>서울</td>\n",
       "      <td>강남구</td>\n",
       "      <td>30~39세</td>\n",
       "      <td>8000</td>\n",
       "      <td>2</td>\n",
       "    </tr>\n",
       "    <tr>\n",
       "      <th>3</th>\n",
       "      <td>2018</td>\n",
       "      <td>서울</td>\n",
       "      <td>강남구</td>\n",
       "      <td>40~49세</td>\n",
       "      <td>628</td>\n",
       "      <td>3</td>\n",
       "    </tr>\n",
       "    <tr>\n",
       "      <th>4</th>\n",
       "      <td>2018</td>\n",
       "      <td>서울</td>\n",
       "      <td>강남구</td>\n",
       "      <td>50세 이상</td>\n",
       "      <td>0</td>\n",
       "      <td>4</td>\n",
       "    </tr>\n",
       "  </tbody>\n",
       "</table>\n",
       "</div>"
      ],
      "text/plain": [
       "     년도  시도  시군구    연령구분  분만건수  연령구분_수치\n",
       "0  2018  서울  강남구  19세 이하     0        0\n",
       "1  2018  서울  강남구  20~29세  1124        1\n",
       "2  2018  서울  강남구  30~39세  8000        2\n",
       "3  2018  서울  강남구  40~49세   628        3\n",
       "4  2018  서울  강남구  50세 이상     0        4"
      ]
     },
     "execution_count": 30,
     "metadata": {},
     "output_type": "execute_result"
    }
   ],
   "source": [
    "data.head()#확인"
   ]
  },
  {
   "cell_type": "code",
   "execution_count": 31,
   "metadata": {},
   "outputs": [
    {
     "data": {
      "text/html": [
       "<div>\n",
       "<style scoped>\n",
       "    .dataframe tbody tr th:only-of-type {\n",
       "        vertical-align: middle;\n",
       "    }\n",
       "\n",
       "    .dataframe tbody tr th {\n",
       "        vertical-align: top;\n",
       "    }\n",
       "\n",
       "    .dataframe thead th {\n",
       "        text-align: right;\n",
       "    }\n",
       "</style>\n",
       "<table border=\"1\" class=\"dataframe\">\n",
       "  <thead>\n",
       "    <tr style=\"text-align: right;\">\n",
       "      <th></th>\n",
       "      <th>년도</th>\n",
       "      <th>시도</th>\n",
       "      <th>시군구</th>\n",
       "      <th>연령구분</th>\n",
       "      <th>분만건수</th>\n",
       "      <th>연령구분_수치</th>\n",
       "    </tr>\n",
       "  </thead>\n",
       "  <tbody>\n",
       "    <tr>\n",
       "      <th>0</th>\n",
       "      <td>2018</td>\n",
       "      <td>서울</td>\n",
       "      <td>강남구</td>\n",
       "      <td>19세 이하</td>\n",
       "      <td>0</td>\n",
       "      <td>0</td>\n",
       "    </tr>\n",
       "    <tr>\n",
       "      <th>1</th>\n",
       "      <td>2018</td>\n",
       "      <td>서울</td>\n",
       "      <td>강남구</td>\n",
       "      <td>20~29세</td>\n",
       "      <td>1124</td>\n",
       "      <td>1</td>\n",
       "    </tr>\n",
       "    <tr>\n",
       "      <th>2</th>\n",
       "      <td>2018</td>\n",
       "      <td>서울</td>\n",
       "      <td>강남구</td>\n",
       "      <td>30~39세</td>\n",
       "      <td>8000</td>\n",
       "      <td>2</td>\n",
       "    </tr>\n",
       "    <tr>\n",
       "      <th>3</th>\n",
       "      <td>2018</td>\n",
       "      <td>서울</td>\n",
       "      <td>강남구</td>\n",
       "      <td>40~49세</td>\n",
       "      <td>628</td>\n",
       "      <td>3</td>\n",
       "    </tr>\n",
       "    <tr>\n",
       "      <th>4</th>\n",
       "      <td>2018</td>\n",
       "      <td>서울</td>\n",
       "      <td>강남구</td>\n",
       "      <td>50세 이상</td>\n",
       "      <td>0</td>\n",
       "      <td>4</td>\n",
       "    </tr>\n",
       "  </tbody>\n",
       "</table>\n",
       "</div>"
      ],
      "text/plain": [
       "     년도  시도  시군구    연령구분  분만건수  연령구분_수치\n",
       "0  2018  서울  강남구  19세 이하     0        0\n",
       "1  2018  서울  강남구  20~29세  1124        1\n",
       "2  2018  서울  강남구  30~39세  8000        2\n",
       "3  2018  서울  강남구  40~49세   628        3\n",
       "4  2018  서울  강남구  50세 이상     0        4"
      ]
     },
     "execution_count": 31,
     "metadata": {},
     "output_type": "execute_result"
    }
   ],
   "source": [
    "data.head()#상위 5열 확인 0 1 2 3 4로 되어있는 것을 볼 수 있음"
   ]
  },
  {
   "cell_type": "code",
   "execution_count": 32,
   "metadata": {},
   "outputs": [
    {
     "name": "stdout",
     "output_type": "stream",
     "text": [
      "R-squared: 0.0018409490295087094\n",
      "Coefficients: [-19.4204]\n",
      "Intercept: 261.07856\n"
     ]
    },
    {
     "data": {
      "text/html": [
       "<div>\n",
       "<style scoped>\n",
       "    .dataframe tbody tr th:only-of-type {\n",
       "        vertical-align: middle;\n",
       "    }\n",
       "\n",
       "    .dataframe tbody tr th {\n",
       "        vertical-align: top;\n",
       "    }\n",
       "\n",
       "    .dataframe thead th {\n",
       "        text-align: right;\n",
       "    }\n",
       "</style>\n",
       "<table border=\"1\" class=\"dataframe\">\n",
       "  <thead>\n",
       "    <tr style=\"text-align: right;\">\n",
       "      <th></th>\n",
       "      <th>년도</th>\n",
       "      <th>시도</th>\n",
       "      <th>시군구</th>\n",
       "      <th>연령구분</th>\n",
       "      <th>분만건수</th>\n",
       "      <th>연령구분_수치</th>\n",
       "      <th>예측값</th>\n",
       "    </tr>\n",
       "  </thead>\n",
       "  <tbody>\n",
       "    <tr>\n",
       "      <th>0</th>\n",
       "      <td>2018</td>\n",
       "      <td>서울</td>\n",
       "      <td>강남구</td>\n",
       "      <td>19세 이하</td>\n",
       "      <td>0</td>\n",
       "      <td>0</td>\n",
       "      <td>261.07856</td>\n",
       "    </tr>\n",
       "    <tr>\n",
       "      <th>1</th>\n",
       "      <td>2018</td>\n",
       "      <td>서울</td>\n",
       "      <td>강남구</td>\n",
       "      <td>20~29세</td>\n",
       "      <td>1124</td>\n",
       "      <td>1</td>\n",
       "      <td>241.65816</td>\n",
       "    </tr>\n",
       "    <tr>\n",
       "      <th>2</th>\n",
       "      <td>2018</td>\n",
       "      <td>서울</td>\n",
       "      <td>강남구</td>\n",
       "      <td>30~39세</td>\n",
       "      <td>8000</td>\n",
       "      <td>2</td>\n",
       "      <td>222.23776</td>\n",
       "    </tr>\n",
       "    <tr>\n",
       "      <th>3</th>\n",
       "      <td>2018</td>\n",
       "      <td>서울</td>\n",
       "      <td>강남구</td>\n",
       "      <td>40~49세</td>\n",
       "      <td>628</td>\n",
       "      <td>3</td>\n",
       "      <td>202.81736</td>\n",
       "    </tr>\n",
       "    <tr>\n",
       "      <th>4</th>\n",
       "      <td>2018</td>\n",
       "      <td>서울</td>\n",
       "      <td>강남구</td>\n",
       "      <td>50세 이상</td>\n",
       "      <td>0</td>\n",
       "      <td>4</td>\n",
       "      <td>183.39696</td>\n",
       "    </tr>\n",
       "  </tbody>\n",
       "</table>\n",
       "</div>"
      ],
      "text/plain": [
       "     년도  시도  시군구    연령구분  분만건수  연령구분_수치        예측값\n",
       "0  2018  서울  강남구  19세 이하     0        0  261.07856\n",
       "1  2018  서울  강남구  20~29세  1124        1  241.65816\n",
       "2  2018  서울  강남구  30~39세  8000        2  222.23776\n",
       "3  2018  서울  강남구  40~49세   628        3  202.81736\n",
       "4  2018  서울  강남구  50세 이상     0        4  183.39696"
      ]
     },
     "execution_count": 32,
     "metadata": {},
     "output_type": "execute_result"
    }
   ],
   "source": [
    "x=data[['연령구분_수치']]\n",
    "y=data['분만건수']\n",
    "\n",
    "model = LinearRegression()\n",
    "model.fit(x, y)\n",
    "\n",
    "r_squared = model.score(x, y)\n",
    "print(f'R-squared: {r_squared}')\n",
    "print(f'Coefficients: {model.coef_}')\n",
    "print(f'Intercept: {model.intercept_}')\n",
    "\n",
    "data['예측값'] = model.predict(x)\n",
    "data.head()"
   ]
  },
  {
   "cell_type": "code",
   "execution_count": 35,
   "metadata": {},
   "outputs": [
    {
     "data": {
      "text/plain": [
       "<BarContainer object of 6250 artists>"
      ]
     },
     "execution_count": 35,
     "metadata": {},
     "output_type": "execute_result"
    },
    {
     "data": {
      "image/png": "[encoded data removed]",
      "text/plain": [
       "<Figure size 432x288 with 1 Axes>"
      ]
     },
     "metadata": {
      "needs_background": "light"
     },
     "output_type": "display_data"
    }
   ],
   "source": [
    "plt.bar(data['년도'], data['분만건수'])#건수에 대한 년도별 막대그래프"
   ]
  },
  {
   "cell_type": "code",
   "execution_count": 33,
   "metadata": {},
   "outputs": [
    {
     "data": {
      "image/png": "[encoded data removed]",
      "text/plain": [
       "<Figure size 432x288 with 1 Axes>"
      ]
     },
     "metadata": {
      "needs_background": "light"
     },
     "output_type": "display_data"
    }
   ],
   "source": [
    "plt.scatter(data['연령구분_수치'], data['분만건수'], color='blue', label='Actual')#산점도\n",
    "plt.plot(data['연령구분_수치'], data['예측값'], color='red', linewidth=2, label='Predicted')#회귀식 표시\n",
    "plt.xlabel('Age classification')\n",
    "plt.ylabel('number of births')\n",
    "plt.legend()\n",
    "plt.show()"
   ]
  },
  {
   "cell_type": "code",
   "execution_count": 34,
   "metadata": {},
   "outputs": [
    {
     "name": "stdout",
     "output_type": "stream",
     "text": [
      "회귀식: 분만건수 = -19.420399999999997 * 연령구분_수치 + 261.07856\n"
     ]
    }
   ],
   "source": [
    "coefficients = model.coef_\n",
    "intercept = model.intercept_\n",
    "print(f'회귀식: 분만건수 = {coefficients[0]} * 연령구분_수치 + {intercept}')"
   ]
  },
  {
   "cell_type": "code",
   "execution_count": null,
   "metadata": {},
   "outputs": [],
   "source": []
  }
 ],
 "metadata": {
  "kernelspec": {
   "display_name": "Python 3",
   "language": "python",
   "name": "python3"
  },
  "language_info": {
   "codemirror_mode": {
    "name": "ipython",
    "version": 3
   },
   "file_extension": ".py",
   "mimetype": "text/x-python",
   "name": "python",
   "nbconvert_exporter": "python",
   "pygments_lexer": "ipython3",
   "version": "3.8.3"
  }
 },
 "nbformat": 4,
 "nbformat_minor": 4
}
