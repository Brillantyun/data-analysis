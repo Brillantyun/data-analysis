{
 "cells": [
  {
   "cell_type": "markdown",
   "metadata": {},
   "source": [
    "# 연령별 분만건수 분석\n"
   ]
  },
  {
   "cell_type": "code",
   "execution_count": 1,
   "metadata": {},
   "outputs": [],
   "source": [
    "import numpy as np\n",
    "import pandas as pd\n",
    "import matplotlib.pyplot as plt\n",
    "plt.rcParams['font.family'] ='Malgun Gothic'\n",
    "plt.rcParams['axes.unicode_minus'] =False #한글 폰트\n",
    "\n",
    "df = pd.read_csv('시군구별 연령별 분만 통계 2018~2022.csv', encoding='cp949')#데이터불러오기"
   ]
  },
  {
   "cell_type": "code",
   "execution_count": 2,
   "metadata": {
    "scrolled": true
   },
   "outputs": [
    {
     "data": {
      "text/html": [
       "<div>\n",
       "<style scoped>\n",
       "    .dataframe tbody tr th:only-of-type {\n",
       "        vertical-align: middle;\n",
       "    }\n",
       "\n",
       "    .dataframe tbody tr th {\n",
       "        vertical-align: top;\n",
       "    }\n",
       "\n",
       "    .dataframe thead th {\n",
       "        text-align: right;\n",
       "    }\n",
       "</style>\n",
       "<table border=\"1\" class=\"dataframe\">\n",
       "  <thead>\n",
       "    <tr style=\"text-align: right;\">\n",
       "      <th></th>\n",
       "      <th>년도</th>\n",
       "      <th>시도</th>\n",
       "      <th>시군구</th>\n",
       "      <th>연령구분</th>\n",
       "      <th>분만건수</th>\n",
       "    </tr>\n",
       "  </thead>\n",
       "  <tbody>\n",
       "    <tr>\n",
       "      <th>0</th>\n",
       "      <td>2018</td>\n",
       "      <td>서울</td>\n",
       "      <td>강남구</td>\n",
       "      <td>19세 이하</td>\n",
       "      <td>0</td>\n",
       "    </tr>\n",
       "    <tr>\n",
       "      <th>1</th>\n",
       "      <td>2018</td>\n",
       "      <td>서울</td>\n",
       "      <td>강남구</td>\n",
       "      <td>20~29세</td>\n",
       "      <td>1124</td>\n",
       "    </tr>\n",
       "    <tr>\n",
       "      <th>2</th>\n",
       "      <td>2018</td>\n",
       "      <td>서울</td>\n",
       "      <td>강남구</td>\n",
       "      <td>30~39세</td>\n",
       "      <td>8000</td>\n",
       "    </tr>\n",
       "    <tr>\n",
       "      <th>3</th>\n",
       "      <td>2018</td>\n",
       "      <td>서울</td>\n",
       "      <td>강남구</td>\n",
       "      <td>40~49세</td>\n",
       "      <td>628</td>\n",
       "    </tr>\n",
       "    <tr>\n",
       "      <th>4</th>\n",
       "      <td>2018</td>\n",
       "      <td>서울</td>\n",
       "      <td>강남구</td>\n",
       "      <td>50세 이상</td>\n",
       "      <td>0</td>\n",
       "    </tr>\n",
       "  </tbody>\n",
       "</table>\n",
       "</div>"
      ],
      "text/plain": [
       "     년도  시도  시군구    연령구분  분만건수\n",
       "0  2018  서울  강남구  19세 이하     0\n",
       "1  2018  서울  강남구  20~29세  1124\n",
       "2  2018  서울  강남구  30~39세  8000\n",
       "3  2018  서울  강남구  40~49세   628\n",
       "4  2018  서울  강남구  50세 이상     0"
      ]
     },
     "execution_count": 2,
     "metadata": {},
     "output_type": "execute_result"
    }
   ],
   "source": [
    "df.head()#불로온 데이터 확인"
   ]
  },
  {
   "cell_type": "code",
   "execution_count": 3,
   "metadata": {},
   "outputs": [],
   "source": [
    "from sklearn.linear_model import LinearRegression\n",
    "from sklearn.preprocessing import LabelEncoder \n",
    "import statsmodels.api as sm\n",
    "\n",
    "data = pd.DataFrame(df)#분석할 데이터 새로 생성"
   ]
  },
  {
   "cell_type": "code",
   "execution_count": 4,
   "metadata": {},
   "outputs": [],
   "source": [
    "le = LabelEncoder()\n",
    "data['연령구분_수치'] = le.fit_transform(data['연령구분']) #연령구분 수치로 변경"
   ]
  },
  {
   "cell_type": "code",
   "execution_count": 5,
   "metadata": {
    "scrolled": true
   },
   "outputs": [
    {
     "data": {
      "text/html": [
       "<div>\n",
       "<style scoped>\n",
       "    .dataframe tbody tr th:only-of-type {\n",
       "        vertical-align: middle;\n",
       "    }\n",
       "\n",
       "    .dataframe tbody tr th {\n",
       "        vertical-align: top;\n",
       "    }\n",
       "\n",
       "    .dataframe thead th {\n",
       "        text-align: right;\n",
       "    }\n",
       "</style>\n",
       "<table border=\"1\" class=\"dataframe\">\n",
       "  <thead>\n",
       "    <tr style=\"text-align: right;\">\n",
       "      <th></th>\n",
       "      <th>년도</th>\n",
       "      <th>시도</th>\n",
       "      <th>시군구</th>\n",
       "      <th>연령구분</th>\n",
       "      <th>분만건수</th>\n",
       "      <th>연령구분_수치</th>\n",
       "    </tr>\n",
       "  </thead>\n",
       "  <tbody>\n",
       "    <tr>\n",
       "      <th>0</th>\n",
       "      <td>2018</td>\n",
       "      <td>서울</td>\n",
       "      <td>강남구</td>\n",
       "      <td>19세 이하</td>\n",
       "      <td>0</td>\n",
       "      <td>0</td>\n",
       "    </tr>\n",
       "    <tr>\n",
       "      <th>1</th>\n",
       "      <td>2018</td>\n",
       "      <td>서울</td>\n",
       "      <td>강남구</td>\n",
       "      <td>20~29세</td>\n",
       "      <td>1124</td>\n",
       "      <td>1</td>\n",
       "    </tr>\n",
       "    <tr>\n",
       "      <th>2</th>\n",
       "      <td>2018</td>\n",
       "      <td>서울</td>\n",
       "      <td>강남구</td>\n",
       "      <td>30~39세</td>\n",
       "      <td>8000</td>\n",
       "      <td>2</td>\n",
       "    </tr>\n",
       "    <tr>\n",
       "      <th>3</th>\n",
       "      <td>2018</td>\n",
       "      <td>서울</td>\n",
       "      <td>강남구</td>\n",
       "      <td>40~49세</td>\n",
       "      <td>628</td>\n",
       "      <td>3</td>\n",
       "    </tr>\n",
       "    <tr>\n",
       "      <th>4</th>\n",
       "      <td>2018</td>\n",
       "      <td>서울</td>\n",
       "      <td>강남구</td>\n",
       "      <td>50세 이상</td>\n",
       "      <td>0</td>\n",
       "      <td>4</td>\n",
       "    </tr>\n",
       "  </tbody>\n",
       "</table>\n",
       "</div>"
      ],
      "text/plain": [
       "     년도  시도  시군구    연령구분  분만건수  연령구분_수치\n",
       "0  2018  서울  강남구  19세 이하     0        0\n",
       "1  2018  서울  강남구  20~29세  1124        1\n",
       "2  2018  서울  강남구  30~39세  8000        2\n",
       "3  2018  서울  강남구  40~49세   628        3\n",
       "4  2018  서울  강남구  50세 이상     0        4"
      ]
     },
     "execution_count": 5,
     "metadata": {},
     "output_type": "execute_result"
    }
   ],
   "source": [
    "data.head()#상위 5행 확인 0 1 2 3 4로 되어있는 것을 볼 수 있음"
   ]
  },
  {
   "cell_type": "code",
   "execution_count": 6,
   "metadata": {},
   "outputs": [
    {
     "data": {
      "text/html": [
       "<div>\n",
       "<style scoped>\n",
       "    .dataframe tbody tr th:only-of-type {\n",
       "        vertical-align: middle;\n",
       "    }\n",
       "\n",
       "    .dataframe tbody tr th {\n",
       "        vertical-align: top;\n",
       "    }\n",
       "\n",
       "    .dataframe thead th {\n",
       "        text-align: right;\n",
       "    }\n",
       "</style>\n",
       "<table border=\"1\" class=\"dataframe\">\n",
       "  <thead>\n",
       "    <tr style=\"text-align: right;\">\n",
       "      <th></th>\n",
       "      <th>년도</th>\n",
       "      <th>시도</th>\n",
       "      <th>시군구</th>\n",
       "      <th>연령구분</th>\n",
       "      <th>분만건수</th>\n",
       "      <th>연령구분_수치</th>\n",
       "    </tr>\n",
       "  </thead>\n",
       "  <tbody>\n",
       "    <tr>\n",
       "      <th>6245</th>\n",
       "      <td>2022</td>\n",
       "      <td>세종</td>\n",
       "      <td>세종시</td>\n",
       "      <td>19세 이하</td>\n",
       "      <td>0</td>\n",
       "      <td>0</td>\n",
       "    </tr>\n",
       "    <tr>\n",
       "      <th>6246</th>\n",
       "      <td>2022</td>\n",
       "      <td>세종</td>\n",
       "      <td>세종시</td>\n",
       "      <td>20~29세</td>\n",
       "      <td>459</td>\n",
       "      <td>1</td>\n",
       "    </tr>\n",
       "    <tr>\n",
       "      <th>6247</th>\n",
       "      <td>2022</td>\n",
       "      <td>세종</td>\n",
       "      <td>세종시</td>\n",
       "      <td>30~39세</td>\n",
       "      <td>2122</td>\n",
       "      <td>2</td>\n",
       "    </tr>\n",
       "    <tr>\n",
       "      <th>6248</th>\n",
       "      <td>2022</td>\n",
       "      <td>세종</td>\n",
       "      <td>세종시</td>\n",
       "      <td>40~49세</td>\n",
       "      <td>148</td>\n",
       "      <td>3</td>\n",
       "    </tr>\n",
       "    <tr>\n",
       "      <th>6249</th>\n",
       "      <td>2022</td>\n",
       "      <td>세종</td>\n",
       "      <td>세종시</td>\n",
       "      <td>50세 이상</td>\n",
       "      <td>0</td>\n",
       "      <td>4</td>\n",
       "    </tr>\n",
       "  </tbody>\n",
       "</table>\n",
       "</div>"
      ],
      "text/plain": [
       "        년도  시도  시군구    연령구분  분만건수  연령구분_수치\n",
       "6245  2022  세종  세종시  19세 이하     0        0\n",
       "6246  2022  세종  세종시  20~29세   459        1\n",
       "6247  2022  세종  세종시  30~39세  2122        2\n",
       "6248  2022  세종  세종시  40~49세   148        3\n",
       "6249  2022  세종  세종시  50세 이상     0        4"
      ]
     },
     "execution_count": 6,
     "metadata": {},
     "output_type": "execute_result"
    }
   ],
   "source": [
    "data.tail()#하위 5행 확인"
   ]
  },
  {
   "cell_type": "code",
   "execution_count": 7,
   "metadata": {
    "scrolled": true
   },
   "outputs": [
    {
     "data": {
      "image/png": "[encoded data removed]",
      "text/plain": [
       "<Figure size 432x288 with 1 Axes>"
      ]
     },
     "metadata": {
      "needs_background": "light"
     },
     "output_type": "display_data"
    }
   ],
   "source": [
    "plt.bar(data['년도'], data['분만건수'])#건수에 대한 년도별 막대그래프\n",
    "plt.show()"
   ]
  },
  {
   "cell_type": "code",
   "execution_count": 8,
   "metadata": {
    "scrolled": true
   },
   "outputs": [
    {
     "data": {
      "image/png": "[encoded data removed]",
      "text/plain": [
       "<Figure size 432x288 with 1 Axes>"
      ]
     },
     "metadata": {
      "needs_background": "light"
     },
     "output_type": "display_data"
    }
   ],
   "source": [
    "plt.bar(data[data['시군구']=='세종시']['연령구분'], data[data['시군구']=='세종시']['분만건수'])#지역 분만건수 확인\n",
    "plt.show()"
   ]
  },
  {
   "cell_type": "code",
   "execution_count": 9,
   "metadata": {
    "scrolled": true
   },
   "outputs": [
    {
     "data": {
      "image/png": "[encoded data removed]",
      "text/plain": [
       "<Figure size 432x288 with 1 Axes>"
      ]
     },
     "metadata": {
      "needs_background": "light"
     },
     "output_type": "display_data"
    }
   ],
   "source": [
    "plt.bar(data[data['시군구']=='양평군']['연령구분'], data[data['시군구']=='양평군']['분만건수'])\n",
    "plt.show()"
   ]
  },
  {
   "cell_type": "code",
   "execution_count": 10,
   "metadata": {
    "scrolled": true
   },
   "outputs": [
    {
     "data": {
      "image/png": "[encoded data removed]",
      "text/plain": [
       "<Figure size 432x288 with 1 Axes>"
      ]
     },
     "metadata": {
      "needs_background": "light"
     },
     "output_type": "display_data"
    }
   ],
   "source": [
    "plt.bar(data[data['시도']=='부산']['연령구분'], data[data['시도']=='부산']['분만건수'])#시도별 분만건수 확인\n",
    "plt.show()"
   ]
  },
  {
   "cell_type": "code",
   "execution_count": 11,
   "metadata": {
    "scrolled": false
   },
   "outputs": [
    {
     "data": {
      "image/png": "[encoded data removed]",
      "text/plain": [
       "<Figure size 720x720 with 1 Axes>"
      ]
     },
     "metadata": {},
     "output_type": "display_data"
    }
   ],
   "source": [
    "total_birth = data.groupby('시도')['분만건수'].sum()#시도별 분만건수 합\n",
    "\n",
    "plt.figure(figsize=(10,10))\n",
    "plt.pie(total_birth, labels=total_birth.index)#시도별 분만건수 원그래프 작성\n",
    "plt.show()"
   ]
  },
  {
   "cell_type": "code",
   "execution_count": 12,
   "metadata": {},
   "outputs": [
    {
     "name": "stdout",
     "output_type": "stream",
     "text": [
      "R-squared: 0.9618238179671009\n",
      "Coefficients: [-19121.5]\n",
      "Intercept: 38903227.20000001\n",
      "회귀식: 분만건수 = 38903227.20000001 + -19121.500000000004 * 년도\n"
     ]
    },
    {
     "data": {
      "image/png": "[encoded data removed]",
      "text/plain": [
       "<Figure size 432x288 with 1 Axes>"
      ]
     },
     "metadata": {
      "needs_background": "light"
     },
     "output_type": "display_data"
    }
   ],
   "source": [
    "data_yearly_sum = data.groupby('년도')['분만건수'].sum().reset_index()# 년도별 분만건수 합계 계산\n",
    "\n",
    "x1 = data_yearly_sum[['년도']]\n",
    "y1 = data_yearly_sum['분만건수']\n",
    "\n",
    "# 회귀모델 생성 및 학습\n",
    "model_1 = LinearRegression()\n",
    "model_1.fit(x1, y1)\n",
    "\n",
    "# 회귀모델 결과 출력\n",
    "r_squared = model_1.score(x1, y1)\n",
    "coefficients = model_1.coef_\n",
    "intercept = model_1.intercept_\n",
    "\n",
    "print(f'R-squared: {r_squared}')\n",
    "print(f'Coefficients: {coefficients}')\n",
    "print(f'Intercept: {intercept}')\n",
    "\n",
    "# 회귀식 출력\n",
    "print(f\"회귀식: 분만건수 = {intercept} + {coefficients[0]} * 년도\")\n",
    "\n",
    "# 예측값 추가\n",
    "data_yearly_sum['예측값'] = model_1.predict(x1)\n",
    "\n",
    "# 그래프 그리기\n",
    "plt.scatter(data_yearly_sum['년도'], data_yearly_sum['분만건수'], color='blue', label='Actual')\n",
    "plt.plot(data_yearly_sum['년도'], data_yearly_sum['예측값'], color='red', linewidth=2, label='Predicted')\n",
    "plt.xlabel('년도')\n",
    "plt.ylabel('분만건수')\n",
    "plt.legend()\n",
    "plt.show()\n",
    "#의미 있는 회귀분석이 됨"
   ]
  },
  {
   "cell_type": "code",
   "execution_count": 17,
   "metadata": {},
   "outputs": [
    {
     "name": "stdout",
     "output_type": "stream",
     "text": [
      "교차 검증 점수: [  0.23658052 -13.17015124]\n",
      "평균 교차 검증 점수: -6.466785362074947\n"
     ]
    }
   ],
   "source": [
    "from sklearn.model_selection import cross_val_score\n",
    "\n",
    "cross_val_scores = cross_val_score(model_1, x1, y1, cv=2)\n",
    "\n",
    "print(f'교차 검증 점수: {cross_val_scores}')\n",
    "print(f'평균 교차 검증 점수: {cross_val_scores.mean()}')\n",
    "#의미있는 수가 도출되지 않음"
   ]
  }
 ],
 "metadata": {
  "kernelspec": {
   "display_name": "Python 3",
   "language": "python",
   "name": "python3"
  },
  "language_info": {
   "codemirror_mode": {
    "name": "ipython",
    "version": 3
   },
   "file_extension": ".py",
   "mimetype": "text/x-python",
   "name": "python",
   "nbconvert_exporter": "python",
   "pygments_lexer": "ipython3",
   "version": "3.8.3"
  }
 },
 "nbformat": 4,
 "nbformat_minor": 4
}
